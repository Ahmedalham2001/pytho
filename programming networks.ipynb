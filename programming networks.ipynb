{
 "cells": [
  {
   "cell_type": "code",
   "execution_count": 1,
   "metadata": {},
   "outputs": [
    {
     "data": {
      "text/plain": [
       "(IPv6Address('2001:db8::1'), IPv4Address('192.0.2.1'))"
      ]
     },
     "execution_count": 1,
     "metadata": {},
     "output_type": "execute_result"
    }
   ],
   "source": [
    "import ipaddress\n",
    "adr4 = ipaddress.ip_address('192.0.2.1')\n",
    "adr6 =ipaddress.ip_address('2001:DB8::1')\n",
    "adr6, adr4\n"
   ]
  },
  {
   "cell_type": "code",
   "execution_count": 1,
   "metadata": {},
   "outputs": [
    {
     "name": "stdout",
     "output_type": "stream",
     "text": [
      "b'HTTP/1.0 400 Bad request\\r\\nCache-Control: no-cache\\r\\nConnection: close\\r\\nContent-Type: text/html\\r\\n\\r\\n<html><body><h1>400 Bad request</h1>\\nYour browser sent an invalid request.\\n</body></html>\\n'\n"
     ]
    }
   ],
   "source": [
    "from socket import*\n",
    "s=socket(AF_INET,SOCK_STREAM)\n",
    "address=('www.ndhu.edu.tw',80)\n",
    "s.connect(address)\n",
    "s.send(b'Get/HTTP/1.0\\n\\n')\n",
    "data= s.recv(1000)\n",
    "print(data)\n",
    "s.close()"
   ]
  },
  {
   "cell_type": "code",
   "execution_count": 3,
   "metadata": {},
   "outputs": [],
   "source": [
    "import socket\n",
    "def Hostinfo():\n",
    "\n",
    " hostname =socket.gethostname()\n",
    " print(\"host name:\",hostname)\n",
    " ip_address =socket.gethostbyname(hostname)\n",
    " print(\"ip address:\",ip_address)"
   ]
  },
  {
   "cell_type": "code",
   "execution_count": 9,
   "metadata": {},
   "outputs": [
    {
     "name": "stdout",
     "output_type": "stream",
     "text": [
      "host name: DESKTOP-G6BE4V8\n",
      "ip address: 172.20.10.11\n"
     ]
    }
   ],
   "source": [
    "import socket\n",
    "\n",
    "def Hostinfo():\n",
    "    hostname = socket.gethostname()\n",
    "    print(\"host name:\", hostname)\n",
    "\n",
    "    ip_address = socket.gethostbyname(hostname)\n",
    "    print(\"ip address:\", ip_address)\n",
    "Hostinfo()"
   ]
  },
  {
   "cell_type": "code",
   "execution_count": 7,
   "metadata": {},
   "outputs": [
    {
     "name": "stdout",
     "output_type": "stream",
     "text": [
      "Hostname:  DESKTOP-G6BE4V8\n",
      "IP Address:  172.20.10.11\n"
     ]
    }
   ],
   "source": [
    "import socket\n",
    "# ahmed mustafa alhamrouni\n",
    "# ID 2191804661\n",
    "def HostInfo():\n",
    "    # Get the hostname\n",
    "    hostname = socket.gethostname()\n",
    "    print(\"Hostname: \", hostname)\n",
    "\n",
    "    # Get the IP address\n",
    "    ip_address = socket.gethostbyname(hostname)\n",
    "    print(\"IP Address: \", ip_address)\n",
    "\n",
    "# Call the function\n",
    "HostInfo()"
   ]
  }
 ],
 "metadata": {
  "kernelspec": {
   "display_name": "Python 3",
   "language": "python",
   "name": "python3"
  },
  "language_info": {
   "codemirror_mode": {
    "name": "ipython",
    "version": 3
   },
   "file_extension": ".py",
   "mimetype": "text/x-python",
   "name": "python",
   "nbconvert_exporter": "python",
   "pygments_lexer": "ipython3",
   "version": "3.11.4"
  },
  "orig_nbformat": 4
 },
 "nbformat": 4,
 "nbformat_minor": 2
}
